{
 "cells": [
  {
   "cell_type": "code",
   "execution_count": 1,
   "metadata": {},
   "outputs": [
    {
     "name": "stdout",
     "output_type": "stream",
     "text": [
      "Requirement already satisfied: yfinance in c:\\users\\bruno\\anaconda3\\lib\\site-packages (0.1.74)\n",
      "Requirement already satisfied: pandas>=0.24.0 in c:\\users\\bruno\\anaconda3\\lib\\site-packages (from yfinance) (1.4.2)\n",
      "Requirement already satisfied: lxml>=4.5.1 in c:\\users\\bruno\\anaconda3\\lib\\site-packages (from yfinance) (4.8.0)\n",
      "Requirement already satisfied: requests>=2.26 in c:\\users\\bruno\\anaconda3\\lib\\site-packages (from yfinance) (2.27.1)\n",
      "Requirement already satisfied: multitasking>=0.0.7 in c:\\users\\bruno\\anaconda3\\lib\\site-packages (from yfinance) (0.0.11)\n",
      "Requirement already satisfied: numpy>=1.15 in c:\\users\\bruno\\anaconda3\\lib\\site-packages (from yfinance) (1.21.5)\n",
      "Requirement already satisfied: python-dateutil>=2.8.1 in c:\\users\\bruno\\anaconda3\\lib\\site-packages (from pandas>=0.24.0->yfinance) (2.8.2)\n",
      "Requirement already satisfied: pytz>=2020.1 in c:\\users\\bruno\\anaconda3\\lib\\site-packages (from pandas>=0.24.0->yfinance) (2021.3)\n",
      "Requirement already satisfied: six>=1.5 in c:\\users\\bruno\\anaconda3\\lib\\site-packages (from python-dateutil>=2.8.1->pandas>=0.24.0->yfinance) (1.16.0)\n",
      "Requirement already satisfied: urllib3<1.27,>=1.21.1 in c:\\users\\bruno\\anaconda3\\lib\\site-packages (from requests>=2.26->yfinance) (1.26.9)\n",
      "Requirement already satisfied: certifi>=2017.4.17 in c:\\users\\bruno\\anaconda3\\lib\\site-packages (from requests>=2.26->yfinance) (2021.10.8)\n",
      "Requirement already satisfied: idna<4,>=2.5 in c:\\users\\bruno\\anaconda3\\lib\\site-packages (from requests>=2.26->yfinance) (3.3)\n",
      "Requirement already satisfied: charset-normalizer~=2.0.0 in c:\\users\\bruno\\anaconda3\\lib\\site-packages (from requests>=2.26->yfinance) (2.0.4)\n",
      "Note: you may need to restart the kernel to use updated packages.\n"
     ]
    }
   ],
   "source": [
    "pip install yfinance"
   ]
  },
  {
   "cell_type": "code",
   "execution_count": 39,
   "metadata": {},
   "outputs": [
    {
     "name": "stdout",
     "output_type": "stream",
     "text": [
      "[*********************100%***********************]  1 of 1 completed\n",
      "[*********************100%***********************]  1 of 1 completed\n",
      "[*********************100%***********************]  1 of 1 completed\n",
      "[*********************100%***********************]  1 of 1 completed\n",
      "[*********************100%***********************]  1 of 1 completed\n",
      "[*********************100%***********************]  1 of 1 completed\n"
     ]
    },
    {
     "data": {
      "text/html": [
       "<div>\n",
       "<style scoped>\n",
       "    .dataframe tbody tr th:only-of-type {\n",
       "        vertical-align: middle;\n",
       "    }\n",
       "\n",
       "    .dataframe tbody tr th {\n",
       "        vertical-align: top;\n",
       "    }\n",
       "\n",
       "    .dataframe thead th {\n",
       "        text-align: right;\n",
       "    }\n",
       "</style>\n",
       "<table border=\"1\" class=\"dataframe\">\n",
       "  <thead>\n",
       "    <tr style=\"text-align: right;\">\n",
       "      <th></th>\n",
       "      <th>PETR4.SA</th>\n",
       "      <th>WEGE3.SA</th>\n",
       "      <th>MGLU3.SA</th>\n",
       "      <th>PGMN3.SA</th>\n",
       "      <th>VALE3.SA</th>\n",
       "      <th>ITSA4.SA</th>\n",
       "    </tr>\n",
       "    <tr>\n",
       "      <th>Date</th>\n",
       "      <th></th>\n",
       "      <th></th>\n",
       "      <th></th>\n",
       "      <th></th>\n",
       "      <th></th>\n",
       "      <th></th>\n",
       "    </tr>\n",
       "  </thead>\n",
       "  <tbody>\n",
       "    <tr>\n",
       "      <th>2013-01-02</th>\n",
       "      <td>6.186080</td>\n",
       "      <td>3.400867</td>\n",
       "      <td>0.362282</td>\n",
       "      <td>NaN</td>\n",
       "      <td>23.760246</td>\n",
       "      <td>2.728709</td>\n",
       "    </tr>\n",
       "    <tr>\n",
       "      <th>2013-01-03</th>\n",
       "      <td>6.409142</td>\n",
       "      <td>3.553144</td>\n",
       "      <td>0.377225</td>\n",
       "      <td>NaN</td>\n",
       "      <td>23.356161</td>\n",
       "      <td>2.815766</td>\n",
       "    </tr>\n",
       "    <tr>\n",
       "      <th>2013-01-04</th>\n",
       "      <td>6.418569</td>\n",
       "      <td>3.510845</td>\n",
       "      <td>0.374970</td>\n",
       "      <td>NaN</td>\n",
       "      <td>22.995182</td>\n",
       "      <td>2.802164</td>\n",
       "    </tr>\n",
       "    <tr>\n",
       "      <th>2013-01-07</th>\n",
       "      <td>6.308608</td>\n",
       "      <td>3.468545</td>\n",
       "      <td>0.366229</td>\n",
       "      <td>NaN</td>\n",
       "      <td>22.542604</td>\n",
       "      <td>2.766796</td>\n",
       "    </tr>\n",
       "    <tr>\n",
       "      <th>2013-01-08</th>\n",
       "      <td>6.126387</td>\n",
       "      <td>3.329561</td>\n",
       "      <td>0.363692</td>\n",
       "      <td>NaN</td>\n",
       "      <td>22.364803</td>\n",
       "      <td>2.785841</td>\n",
       "    </tr>\n",
       "  </tbody>\n",
       "</table>\n",
       "</div>"
      ],
      "text/plain": [
       "            PETR4.SA  WEGE3.SA  MGLU3.SA  PGMN3.SA   VALE3.SA  ITSA4.SA\n",
       "Date                                                                   \n",
       "2013-01-02  6.186080  3.400867  0.362282       NaN  23.760246  2.728709\n",
       "2013-01-03  6.409142  3.553144  0.377225       NaN  23.356161  2.815766\n",
       "2013-01-04  6.418569  3.510845  0.374970       NaN  22.995182  2.802164\n",
       "2013-01-07  6.308608  3.468545  0.366229       NaN  22.542604  2.766796\n",
       "2013-01-08  6.126387  3.329561  0.363692       NaN  22.364803  2.785841"
      ]
     },
     "execution_count": 39,
     "metadata": {},
     "output_type": "execute_result"
    }
   ],
   "source": [
    "import yfinance as yf\n",
    "import pandas as pd\n",
    "\n",
    "acoes = ['PETR4.SA', 'WEGE3.SA', 'MGLU3.SA', 'PGMN3.SA', 'VALE3.SA', 'ITSA4.SA']\n",
    "df = pd.DataFrame()\n",
    "\n",
    "for i in acoes:\n",
    "    # Obter os dados do Yahoo Finance\n",
    "    dados_acao = yf.download(i, start='2016-01-01')[['Adj Close']]\n",
    "    \n",
    "    # Renomear a coluna para o nome da ação\n",
    "    dados_acao = dados_acao.rename(columns={'Adj Close': i})\n",
    "    \n",
    "    # Juntar os dados ao DataFrame principal\n",
    "    df = pd.concat([df, dados_acao], axis=1)\n",
    "\n",
    "# Exibir os primeiros registros dos dados\n",
    "df.head()"
   ]
  },
  {
   "cell_type": "code",
   "execution_count": 22,
   "metadata": {},
   "outputs": [],
   "source": [
    "# Certifique-se de ter a coluna 'Date' no formato datetime (caso ainda não esteja)\n",
    "df.index = pd.to_datetime(df.index)\n",
    "\n",
    "# Use o método resample para obter os dados mensais\n",
    "df_mensal = df.resample('M').last()\n",
    "\n",
    "# 'M' indica resample para o final do mês. Se desejar o início do mês, use 'MS' em vez de 'M'.\n",
    "\n",
    "# Se desejar, pode resetar o índice para torná-lo uma coluna novamente\n",
    "df_mensal.reset_index(inplace=True)"
   ]
  },
  {
   "cell_type": "code",
   "execution_count": 33,
   "metadata": {},
   "outputs": [
    {
     "name": "stdout",
     "output_type": "stream",
     "text": [
      "A correlação entre Ativo1 e Ativo2 é: 0.5515151070368242\n"
     ]
    }
   ],
   "source": [
    "correlacao = df_mensal['MGLU3.SA'].corr(df_mensal['JBSS3.SA'])\n",
    "\n",
    "print(f'A correlação entre Ativo1 e Ativo2 é: {correlacao}')"
   ]
  },
  {
   "cell_type": "code",
   "execution_count": 23,
   "metadata": {},
   "outputs": [
    {
     "data": {
      "text/html": [
       "<div>\n",
       "<style scoped>\n",
       "    .dataframe tbody tr th:only-of-type {\n",
       "        vertical-align: middle;\n",
       "    }\n",
       "\n",
       "    .dataframe tbody tr th {\n",
       "        vertical-align: top;\n",
       "    }\n",
       "\n",
       "    .dataframe thead th {\n",
       "        text-align: right;\n",
       "    }\n",
       "</style>\n",
       "<table border=\"1\" class=\"dataframe\">\n",
       "  <thead>\n",
       "    <tr style=\"text-align: right;\">\n",
       "      <th></th>\n",
       "      <th>Date</th>\n",
       "      <th>PETR4.SA</th>\n",
       "      <th>WEGE3.SA</th>\n",
       "      <th>MGLU3.SA</th>\n",
       "      <th>JBSS3.SA</th>\n",
       "      <th>VALE3.SA</th>\n",
       "      <th>ITSA4.SA</th>\n",
       "    </tr>\n",
       "  </thead>\n",
       "  <tbody>\n",
       "    <tr>\n",
       "      <th>0</th>\n",
       "      <td>2013-01-31</td>\n",
       "      <td>5.680260</td>\n",
       "      <td>3.052804</td>\n",
       "      <td>0.338319</td>\n",
       "      <td>5.531698</td>\n",
       "      <td>21.691322</td>\n",
       "      <td>2.742311</td>\n",
       "    </tr>\n",
       "    <tr>\n",
       "      <th>1</th>\n",
       "      <td>2013-02-28</td>\n",
       "      <td>5.218425</td>\n",
       "      <td>3.228358</td>\n",
       "      <td>0.285879</td>\n",
       "      <td>4.973453</td>\n",
       "      <td>20.365931</td>\n",
       "      <td>2.810325</td>\n",
       "    </tr>\n",
       "    <tr>\n",
       "      <th>2</th>\n",
       "      <td>2013-03-31</td>\n",
       "      <td>5.787079</td>\n",
       "      <td>3.181419</td>\n",
       "      <td>0.258250</td>\n",
       "      <td>4.929953</td>\n",
       "      <td>18.927380</td>\n",
       "      <td>2.848812</td>\n",
       "    </tr>\n",
       "    <tr>\n",
       "      <th>3</th>\n",
       "      <td>2013-04-30</td>\n",
       "      <td>6.433413</td>\n",
       "      <td>3.202188</td>\n",
       "      <td>0.201863</td>\n",
       "      <td>4.671951</td>\n",
       "      <td>18.968470</td>\n",
       "      <td>2.749435</td>\n",
       "    </tr>\n",
       "    <tr>\n",
       "      <th>4</th>\n",
       "      <td>2013-05-31</td>\n",
       "      <td>6.423807</td>\n",
       "      <td>3.458754</td>\n",
       "      <td>0.229774</td>\n",
       "      <td>5.199193</td>\n",
       "      <td>16.844265</td>\n",
       "      <td>2.875808</td>\n",
       "    </tr>\n",
       "  </tbody>\n",
       "</table>\n",
       "</div>"
      ],
      "text/plain": [
       "        Date  PETR4.SA  WEGE3.SA  MGLU3.SA  JBSS3.SA   VALE3.SA  ITSA4.SA\n",
       "0 2013-01-31  5.680260  3.052804  0.338319  5.531698  21.691322  2.742311\n",
       "1 2013-02-28  5.218425  3.228358  0.285879  4.973453  20.365931  2.810325\n",
       "2 2013-03-31  5.787079  3.181419  0.258250  4.929953  18.927380  2.848812\n",
       "3 2013-04-30  6.433413  3.202188  0.201863  4.671951  18.968470  2.749435\n",
       "4 2013-05-31  6.423807  3.458754  0.229774  5.199193  16.844265  2.875808"
      ]
     },
     "execution_count": 23,
     "metadata": {},
     "output_type": "execute_result"
    }
   ],
   "source": [
    "df_mensal.head()"
   ]
  },
  {
   "cell_type": "code",
   "execution_count": 24,
   "metadata": {},
   "outputs": [],
   "source": [
    "df.reset_index(inplace=True)  # Resetando o índice para torná-lo uma coluna"
   ]
  },
  {
   "cell_type": "code",
   "execution_count": 27,
   "metadata": {},
   "outputs": [],
   "source": [
    "df_mensal.reset_index(inplace=True)  # Resetando o índice para torná-lo uma coluna\n"
   ]
  },
  {
   "cell_type": "code",
   "execution_count": 32,
   "metadata": {},
   "outputs": [],
   "source": [
    "df_mensal.to_excel('dados_mensais.xlsx', index=False)"
   ]
  },
  {
   "cell_type": "code",
   "execution_count": 29,
   "metadata": {},
   "outputs": [],
   "source": [
    "df.to_excel('dados.xlsx', index=False)"
   ]
  },
  {
   "cell_type": "code",
   "execution_count": 40,
   "metadata": {},
   "outputs": [
    {
     "name": "stdout",
     "output_type": "stream",
     "text": [
      "            Adj Close  Retorno_Mensal Classificacao\n",
      "Date                                               \n",
      "2013-01-02    62550.0             NaN           NaN\n",
      "2013-01-03    63312.0        1.218225     Favoravel\n",
      "2013-01-04    62523.0       -1.246209  Desfavoravel\n",
      "2013-01-07    61933.0       -0.943653        Neutro\n",
      "2013-01-08    61128.0       -1.299792  Desfavoravel\n",
      "...               ...             ...           ...\n",
      "2022-12-23   109698.0        2.218661     Favoravel\n",
      "2022-12-26   108738.0       -0.875130        Neutro\n",
      "2022-12-27   108347.0       -0.359580        Neutro\n",
      "2022-12-28   110237.0        1.744395     Favoravel\n",
      "2022-12-29   110031.0       -0.186870        Neutro\n",
      "\n",
      "[2476 rows x 3 columns]\n"
     ]
    }
   ],
   "source": [
    "ibov = yf.download('^BVSP', start='2013-01-01', end='2023-01-01', progress=False)\n",
    "\n",
    "# Calcula o retorno mensal\n",
    "ibov['Retorno_Mensal'] = ibov['Adj Close'].pct_change() * 100\n",
    "\n",
    "# Classifica os retornos\n",
    "ibov['Classificacao'] = pd.cut(\n",
    "    ibov['Retorno_Mensal'],\n",
    "    bins=[float('-inf'), -1, 1, float('inf')],\n",
    "    labels=['Desfavoravel', 'Neutro', 'Favoravel']\n",
    ")\n",
    "\n",
    "# Imprime o DataFrame resultante\n",
    "print(ibov[['Adj Close', 'Retorno_Mensal', 'Classificacao']])"
   ]
  },
  {
   "cell_type": "code",
   "execution_count": 44,
   "metadata": {},
   "outputs": [],
   "source": [
    "# Certifique-se de ter a coluna 'Date' no formato datetime (caso ainda não esteja)\n",
    "ibov.index = pd.to_datetime(ibov.index)\n",
    "\n",
    "# Use o método resample para obter os dados mensais\n",
    "ibov_mensal = ibov.resample('M').last()\n",
    "\n",
    "# 'M' indica resample para o final do mês. Se desejar o início do mês, use 'MS' em vez de 'M'.\n",
    "\n",
    "# Se desejar, pode resetar o índice para torná-lo uma coluna novamente\n",
    "ibov_mensal.reset_index(inplace=True)"
   ]
  },
  {
   "cell_type": "code",
   "execution_count": 46,
   "metadata": {},
   "outputs": [],
   "source": [
    "ibov.to_excel('ibov.xlsx', index=False)"
   ]
  },
  {
   "cell_type": "code",
   "execution_count": 61,
   "metadata": {},
   "outputs": [
    {
     "name": "stdout",
     "output_type": "stream",
     "text": [
      "          Date  Adj Close  Retorno_Mensal Classificacao_Mensal\n",
      "0   2013-01-31    59761.0             NaN                  NaN\n",
      "1   2013-02-28    57424.0       -3.910577         Desfavoravel\n",
      "2   2013-03-31    56352.0       -1.866815         Desfavoravel\n",
      "3   2013-04-30    55910.0       -0.784355               Neutro\n",
      "4   2013-05-31    53506.0       -4.299767         Desfavoravel\n",
      "..         ...        ...             ...                  ...\n",
      "115 2022-08-31   109523.0        6.162943            Favoravel\n",
      "116 2022-09-30   110037.0        0.469308               Neutro\n",
      "117 2022-10-31   116037.0        5.452711            Favoravel\n",
      "118 2022-11-30   112486.0       -3.060231         Desfavoravel\n",
      "119 2022-12-31   110031.0       -2.182494         Desfavoravel\n",
      "\n",
      "[120 rows x 4 columns]\n"
     ]
    }
   ],
   "source": [
    "import yfinance as yf\n",
    "import pandas as pd\n",
    "\n",
    "# Baixa os dados do IBOV do Yahoo Finance\n",
    "ibov = yf.download('^BVSP', start='2013-01-01', end='2023-01-01', progress=False)\n",
    "\n",
    "# Certifique-se de ter a coluna 'Date' no formato datetime\n",
    "ibov.index = pd.to_datetime(ibov.index)\n",
    "\n",
    "# Calcula o retorno mensal\n",
    "ibov['Retorno_Mensal'] = ibov['Adj Close'].pct_change() * 100\n",
    "\n",
    "# Classifica os retornos diários\n",
    "ibov['Classificacao_Diaria'] = pd.cut(\n",
    "    ibov['Retorno_Mensal'],\n",
    "    bins=[float('-inf'), -1, 1, float('inf')],\n",
    "    labels=['Desfavoravel', 'Neutro', 'Favoravel']\n",
    ")\n",
    "\n",
    "# Use o método resample para obter os dados mensais\n",
    "ibov_mensal = ibov.resample('M').last()\n",
    "\n",
    "# 'M' indica resample para o final do mês. Se desejar o início do mês, use 'MS' em vez de 'M'.\n",
    "\n",
    "# Resetando o índice, se desejar\n",
    "ibov_mensal.reset_index(inplace=True)\n",
    "\n",
    "# Calcula o retorno mensal\n",
    "ibov_mensal['Retorno_Mensal'] = ibov_mensal['Adj Close'].pct_change() * 100\n",
    "\n",
    "# Classifica os retornos mensais\n",
    "ibov_mensal['Classificacao_Mensal'] = pd.cut(\n",
    "    ibov_mensal['Retorno_Mensal'],\n",
    "    bins=[float('-inf'), -1, 1, float('inf')],\n",
    "    labels=['Desfavoravel', 'Neutro', 'Favoravel']\n",
    ")\n",
    "\n",
    "# Imprime o DataFrame resultante\n",
    "print(ibov_mensal[['Date', 'Adj Close', 'Retorno_Mensal', 'Classificacao_Mensal']])\n",
    "\n"
   ]
  },
  {
   "cell_type": "code",
   "execution_count": 56,
   "metadata": {},
   "outputs": [],
   "source": [
    "# Se desejar, pode resetar o índice para torná-lo uma coluna novamente\n",
    "ibov_mensal.reset_index(inplace=True)"
   ]
  },
  {
   "cell_type": "code",
   "execution_count": 62,
   "metadata": {},
   "outputs": [],
   "source": [
    "ibov_mensal.to_excel('ibov.xlsx', index=False)"
   ]
  },
  {
   "cell_type": "code",
   "execution_count": 64,
   "metadata": {},
   "outputs": [
    {
     "name": "stdout",
     "output_type": "stream",
     "text": [
      "Favoravel       0.428571\n",
      "Desfavoravel    0.378151\n",
      "Neutro          0.193277\n",
      "Name: Classificacao_Mensal, dtype: float64\n"
     ]
    }
   ],
   "source": [
    "import yfinance as yf\n",
    "import pandas as pd\n",
    "\n",
    "# Baixa os dados do IBOV do Yahoo Finance\n",
    "ibov = yf.download('^BVSP', start='2013-01-01', end='2023-01-01', progress=False)\n",
    "\n",
    "# Certifique-se de ter a coluna 'Date' no formato datetime\n",
    "ibov.index = pd.to_datetime(ibov.index)\n",
    "\n",
    "# Calcula o retorno mensal\n",
    "ibov['Retorno_Mensal'] = ibov['Adj Close'].pct_change() * 100\n",
    "\n",
    "# Classifica os retornos diários\n",
    "ibov['Classificacao_Diaria'] = pd.cut(\n",
    "    ibov['Retorno_Mensal'],\n",
    "    bins=[float('-inf'), -1, 1, float('inf')],\n",
    "    labels=['Desfavoravel', 'Neutro', 'Favoravel']\n",
    ")\n",
    "\n",
    "# Use o método resample para obter os dados mensais\n",
    "ibov_mensal = ibov.resample('M').last()\n",
    "\n",
    "# 'M' indica resample para o final do mês. Se desejar o início do mês, use 'MS' em vez de 'M'.\n",
    "\n",
    "# Resetando o índice, se desejar\n",
    "ibov_mensal.reset_index(inplace=True)\n",
    "\n",
    "# Calcula o retorno mensal\n",
    "ibov_mensal['Retorno_Mensal'] = ibov_mensal['Adj Close'].pct_change() * 100\n",
    "\n",
    "# Classifica os retornos mensais\n",
    "ibov_mensal['Classificacao_Mensal'] = pd.cut(\n",
    "    ibov_mensal['Retorno_Mensal'],\n",
    "    bins=[float('-inf'), -1, 1, float('inf')],\n",
    "    labels=['Desfavoravel', 'Neutro', 'Favoravel']\n",
    ")\n",
    "\n",
    "# Calcula as probabilidades\n",
    "probabilidades_mensais = ibov_mensal['Classificacao_Mensal'].value_counts(normalize=True)\n",
    "\n",
    "# Imprime o DataFrame resultante com as probabilidades\n",
    "print(probabilidades_mensais)\n"
   ]
  },
  {
   "cell_type": "code",
   "execution_count": 69,
   "metadata": {},
   "outputs": [
    {
     "name": "stdout",
     "output_type": "stream",
     "text": [
      "[*********************100%***********************]  1 of 1 completed\n",
      "[*********************100%***********************]  1 of 1 completed\n",
      "\n",
      "1 Failed download:\n",
      "- ^SMLL: No data found for this date range, symbol may be delisted\n",
      "\n",
      "Dados Mensais do SMLL:\n",
      "Empty DataFrame\n",
      "Columns: [SMLL]\n",
      "Index: []\n",
      "\n",
      "Dados Mensais do IBOV:\n",
      "                IBOV\n",
      "Date                \n",
      "2021-01-31  116007.0\n",
      "2021-02-28  110035.0\n",
      "2021-03-31  116634.0\n",
      "2021-04-30  118894.0\n",
      "2021-05-31  126216.0\n"
     ]
    }
   ],
   "source": [
    "import yfinance as yf\n",
    "import pandas as pd\n",
    "\n",
    "# Defina o intervalo de datas desejado\n",
    "data_inicio = \"2021-01-01\"\n",
    "data_fim = \"2023-01-01\"\n",
    "\n",
    "# Baixe os dados do IBOV\n",
    "ibov = yf.download('^BVSP', start=data_inicio, end=data_fim)\n",
    "\n",
    "# Baixe os dados do SMLL\n",
    "try:\n",
    "    smll = yf.download('^SMLL', start=data_inicio, end=data_fim)\n",
    "    # Converta o índice para DatetimeIndex\n",
    "    smll.index = pd.to_datetime(smll.index)\n",
    "    # Use o método resample para obter os dados mensais\n",
    "    smll_mensal = smll['Adj Close'].resample('M').last()\n",
    "    # Crie um DataFrame com os dados mensais\n",
    "    df_smll_mensal = pd.DataFrame({'SMLL': smll_mensal})\n",
    "    # Exiba os primeiros registros do DataFrame\n",
    "    print(\"\\nDados Mensais do SMLL:\")\n",
    "    print(df_smll_mensal.head())\n",
    "except Exception as e:\n",
    "    print(f\"Erro ao baixar dados do SMLL: {e}\")\n",
    "\n",
    "# Converta o índice para DatetimeIndex para o DataFrame do IBOV também\n",
    "ibov.index = pd.to_datetime(ibov.index)\n",
    "\n",
    "# Use o método resample para obter os dados mensais\n",
    "ibov_mensal = ibov['Adj Close'].resample('M').last()\n",
    "\n",
    "# Crie um DataFrame com os dados mensais\n",
    "df_ibov_mensal = pd.DataFrame({'IBOV': ibov_mensal})\n",
    "\n",
    "# Exiba os primeiros registros dos DataFrames\n",
    "print(\"\\nDados Mensais do IBOV:\")\n",
    "print(df_ibov_mensal.head())"
   ]
  },
  {
   "cell_type": "code",
   "execution_count": null,
   "metadata": {},
   "outputs": [],
   "source": []
  }
 ],
 "metadata": {
  "kernelspec": {
   "display_name": "base",
   "language": "python",
   "name": "python3"
  },
  "language_info": {
   "codemirror_mode": {
    "name": "ipython",
    "version": 3
   },
   "file_extension": ".py",
   "mimetype": "text/x-python",
   "name": "python",
   "nbconvert_exporter": "python",
   "pygments_lexer": "ipython3",
   "version": "3.9.12"
  }
 },
 "nbformat": 4,
 "nbformat_minor": 2
}
